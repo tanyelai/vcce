{
 "cells": [
  {
   "cell_type": "code",
   "execution_count": 1,
   "metadata": {},
   "outputs": [],
   "source": [
    "import sys\n",
    "import os\n",
    "\n",
    "sys.path.append('../')\n",
    "\n",
    "from vcce.utils import feature_extraction as fe"
   ]
  },
  {
   "cell_type": "markdown",
   "metadata": {},
   "source": [
    "## Extract features for entire dataset"
   ]
  },
  {
   "cell_type": "code",
   "execution_count": 2,
   "metadata": {},
   "outputs": [],
   "source": [
    "# Get the absolute path to the parent directory\n",
    "parent_dir = os.path.abspath(os.path.join(os.getcwd(), '..'))\n",
    "\n",
    "# Construct the path to the data/extracted_data/ directory\n",
    "data_folder = os.path.join(parent_dir, 'data', 'extracted_data')\n",
    "processed_data_folder = os.path.join(parent_dir, 'data', 'processed')\n",
    "\n",
    "# Initialize the Config and Processor classes\n",
    "config = fe.Config(\n",
    "                 mode='all',\n",
    "                 raw_data_folder=data_folder,\n",
    "                 sampling_rate=100,\n",
    "                 denoising_method='koka2022',\n",
    "                 r_detector='koka2022',\n",
    "                 delineation_method='dwt',\n",
    "                 processed_data_folder=processed_data_folder,\n",
    "                 idx=None,\n",
    "                 label=None)"
   ]
  },
  {
   "cell_type": "code",
   "execution_count": null,
   "metadata": {},
   "outputs": [],
   "source": [
    "fe.extract_features(config)"
   ]
  },
  {
   "cell_type": "markdown",
   "metadata": {},
   "source": [
    "## Extract features for a patient\n",
    "To achieve this, you first need to have extracted patient data. Example is shown in `data_management.ipynb`"
   ]
  },
  {
   "cell_type": "code",
   "execution_count": 2,
   "metadata": {},
   "outputs": [],
   "source": [
    "parent_dir = os.path.abspath(os.path.join(os.getcwd(), '..'))\n",
    "data_folder = os.path.join(parent_dir, 'data', 'patients')\n",
    "processed_data_folder = os.path.join(parent_dir, 'data', 'patients', 'processed')\n",
    "\n",
    "# Initialize the Config and Processor classes\n",
    "config = fe.Config(\n",
    "                 mode='one',\n",
    "                 raw_data_folder=data_folder,\n",
    "                 sampling_rate=100,\n",
    "                 denoising_method='koka2022',\n",
    "                 r_detector='koka2022',\n",
    "                 delineation_method='dwt',\n",
    "                 processed_data_folder=processed_data_folder,\n",
    "                 idx=1942.0,\n",
    "                 label='NORM')"
   ]
  },
  {
   "cell_type": "code",
   "execution_count": 3,
   "metadata": {},
   "outputs": [
    {
     "name": "stdout",
     "output_type": "stream",
     "text": [
      "Mode: one\n",
      "(1000,)\n",
      "    RR_Prev  RR_Next  RR_Rate  PR_Int  PR_Seg    QRS  P_Wave  T_Wave  T_Left  \\\n",
      "0     False    False    False   False   False  False   False   False   False   \n",
      "1     False    False    False   False   False  False   False   False   False   \n",
      "2     False    False    False   False   False  False   False   False   False   \n",
      "3     False    False    False   False   False  False   False   False   False   \n",
      "4     False    False    False   False   False  False   False   False   False   \n",
      "5     False    False    False   False   False  False   False   False   False   \n",
      "6     False    False    False   False   False  False   False   False   False   \n",
      "7     False    False    False   False   False  False   False   False   False   \n",
      "8     False    False    False   False   False  False   False   False   False   \n",
      "9     False    False    False   False   False  False   False   False   False   \n",
      "10    False    False    False   False   False  False   False   False   False   \n",
      "11    False    False    False   False   False  False   False   False   False   \n",
      "\n",
      "       QT  ...  V6_ST_std    Age  Gender  Patient_id  Label  Beat_P_idx  \\\n",
      "0   False  ...      False  False   False       False  False       False   \n",
      "1   False  ...      False  False   False       False  False       False   \n",
      "2   False  ...      False  False   False       False  False       False   \n",
      "3   False  ...      False  False   False       False  False       False   \n",
      "4   False  ...      False  False   False       False  False       False   \n",
      "5   False  ...      False  False   False       False  False       False   \n",
      "6   False  ...      False  False   False       False  False       False   \n",
      "7   False  ...      False  False   False       False  False       False   \n",
      "8   False  ...      False  False   False       False  False       False   \n",
      "9   False  ...      False  False   False       False  False       False   \n",
      "10  False  ...      False  False   False       False  False       False   \n",
      "11  False  ...      False  False   False       False  False       False   \n",
      "\n",
      "    Beat_Q_idx  Beat_R_idx  Beat_S_idx  Beat_T_idx  \n",
      "0        False       False       False       False  \n",
      "1        False       False       False       False  \n",
      "2        False       False       False       False  \n",
      "3        False       False       False       False  \n",
      "4        False       False       False       False  \n",
      "5        False       False       False       False  \n",
      "6        False       False       False       False  \n",
      "7        False       False       False       False  \n",
      "8        False       False       False       False  \n",
      "9        False       False       False       False  \n",
      "10       False       False       False       False  \n",
      "11       False       False       False       False  \n",
      "\n",
      "[12 rows x 203 columns]\n"
     ]
    }
   ],
   "source": [
    "fe.extract_features(config)"
   ]
  },
  {
   "cell_type": "code",
   "execution_count": null,
   "metadata": {},
   "outputs": [],
   "source": []
  }
 ],
 "metadata": {
  "kernelspec": {
   "display_name": "base",
   "language": "python",
   "name": "python3"
  },
  "language_info": {
   "codemirror_mode": {
    "name": "ipython",
    "version": 3
   },
   "file_extension": ".py",
   "mimetype": "text/x-python",
   "name": "python",
   "nbconvert_exporter": "python",
   "pygments_lexer": "ipython3",
   "version": "3.9.13"
  },
  "orig_nbformat": 4
 },
 "nbformat": 4,
 "nbformat_minor": 2
}
