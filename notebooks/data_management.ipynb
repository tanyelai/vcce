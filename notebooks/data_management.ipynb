{
 "cells": [
  {
   "cell_type": "code",
   "execution_count": 1,
   "metadata": {},
   "outputs": [],
   "source": [
    "import sys\n",
    "sys.path.append('../')\n",
    "\n",
    "from vcce.utils import data"
   ]
  },
  {
   "cell_type": "markdown",
   "metadata": {},
   "source": [
    "## Customizing the Dataset\n",
    "\n",
    "To tailor the dataset to your specific requirements, navigate to `vcce/utils/data.py` and make adjustments to the conditions.\n",
    "\n",
    "Inside `data.py`, you will find the following functions for customization:\n",
    "\n",
    "- **`aggregate_diagnostic`**: Use this function to apply your label restrictions.\n",
    "- **`retrieve_exact_diagnoses`**: Select the uncertainty level of the labels.\n",
    "- **`get_new_data`**: Create additional custom datasets with your desired labels.\n",
    "- **`create_binary_dataset and create`**: These functions randomly balance the count of NORM and MI labels and serves as helper functions.\n",
    "\n",
    "If you intend to implement multi-label functionality, you can modify the code accordingly and contribute to this repository to benefit a wider audience."
   ]
  },
  {
   "cell_type": "code",
   "execution_count": 6,
   "metadata": {},
   "outputs": [
    {
     "name": "stderr",
     "output_type": "stream",
     "text": [
      "100%|██████████| 21799/21799 [00:40<00:00, 532.77it/s]\n"
     ]
    },
    {
     "name": "stdout",
     "output_type": "stream",
     "text": [
      "\n",
      "\n",
      "\n",
      "Class labels: ['NORM', 'MI']\n",
      "Class counts: {'NORM': 1949, 'MI': 1949}\n"
     ]
    }
   ],
   "source": [
    "path = \"../data/ptb-xl/\"\n",
    "sampling_rate = 100\n",
    "output_dir = \"../data/extracted_data\"\n",
    "\n",
    "data.create_dataset(path, sampling_rate, output_dir)"
   ]
  },
  {
   "cell_type": "markdown",
   "metadata": {},
   "source": [
    "## Retrieve a sample"
   ]
  },
  {
   "cell_type": "code",
   "execution_count": 2,
   "metadata": {},
   "outputs": [
    {
     "name": "stdout",
     "output_type": "stream",
     "text": [
      "       Age  Gender  Patient_id\n",
      "0     52.0     1.0      1942.0\n",
      "1     35.0     0.0     13723.0\n",
      "2     67.0     1.0     18255.0\n",
      "3     52.0     1.0      9797.0\n",
      "4     71.0     0.0      9906.0\n",
      "...    ...     ...         ...\n",
      "3113  41.0     1.0     13943.0\n",
      "3114  18.0     1.0     15612.0\n",
      "3115  82.0     1.0      1673.0\n",
      "3116  76.0     0.0     17855.0\n",
      "3117  81.0     0.0     10795.0\n",
      "\n",
      "[3118 rows x 3 columns]\n"
     ]
    }
   ],
   "source": [
    "import numpy as np\n",
    "import pandas as pd\n",
    "\n",
    "# Load the \"patient_info_train.npy\" file\n",
    "patient_info_train = np.load(\"../data/extracted_data/patient_info_train.npy\", allow_pickle=True)\n",
    "\n",
    "# Convert the loaded data to a pandas DataFrame\n",
    "df = pd.DataFrame(patient_info_train, columns=[\"Age\", \"Gender\", \"Patient_id\"])\n",
    "\n",
    "# Display the DataFrame\n",
    "print(df)\n"
   ]
  },
  {
   "cell_type": "code",
   "execution_count": 3,
   "metadata": {},
   "outputs": [
    {
     "name": "stdout",
     "output_type": "stream",
     "text": [
      "Note: Selected index is NORM patient, and the patient info is [Age: 52.0, Gender: 1.0, Patient ID: 1942.0]: \n",
      "The extracted patients are saved in the following directory:\n",
      "          ../data/patients/1942.0_NORM\n",
      "\n"
     ]
    }
   ],
   "source": [
    "path = \"../data/extracted_data/\"\n",
    "patient_id = 1942.0\n",
    "output_dir = \"../data/patients\"\n",
    "\n",
    "data.retrieve_test_patient(path, patient_id, output_dir)"
   ]
  },
  {
   "cell_type": "code",
   "execution_count": null,
   "metadata": {},
   "outputs": [],
   "source": []
  }
 ],
 "metadata": {
  "kernelspec": {
   "display_name": "base",
   "language": "python",
   "name": "python3"
  },
  "language_info": {
   "codemirror_mode": {
    "name": "ipython",
    "version": 3
   },
   "file_extension": ".py",
   "mimetype": "text/x-python",
   "name": "python",
   "nbconvert_exporter": "python",
   "pygments_lexer": "ipython3",
   "version": "3.9.13"
  },
  "orig_nbformat": 4
 },
 "nbformat": 4,
 "nbformat_minor": 2
}
